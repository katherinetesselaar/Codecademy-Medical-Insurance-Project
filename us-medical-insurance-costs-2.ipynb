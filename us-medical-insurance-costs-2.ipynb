{
 "cells": [
  {
   "cell_type": "markdown",
   "metadata": {},
   "source": [
    "# U.S. Medical Insurance Costs"
   ]
  },
  {
   "cell_type": "markdown",
   "metadata": {},
   "source": [
    "Import csv"
   ]
  },
  {
   "cell_type": "code",
   "execution_count": 4,
   "metadata": {},
   "outputs": [],
   "source": [
    "import csv"
   ]
  },
  {
   "cell_type": "markdown",
   "metadata": {},
   "source": [
    "Read file and make lists of each type of data for use in analysis"
   ]
  },
  {
   "cell_type": "code",
   "execution_count": null,
   "metadata": {
    "scrolled": true
   },
   "outputs": [],
   "source": [
    "age_list=[]\n",
    "sex_list=[]\n",
    "bmi_list=[]\n",
    "child_list=[]\n",
    "smoker_list=[]\n",
    "region_list=[]\n",
    "charge_list=[]\n",
    "\n",
    "def make_lists(file_name, list_name, column):\n",
    "    with open(file_name) as insurance_csv:\n",
    "        csv_reader = csv.DictReader(insurance_csv)\n",
    "        for row in csv_reader:\n",
    "            list_name.append(row[column])\n",
    "        return list_name\n",
    "            \n",
    "make_lists('insurance.csv', age_list, 'age')\n",
    "make_lists('insurance.csv', sex_list, 'sex')\n",
    "make_lists('insurance.csv', bmi_list, 'bmi')\n",
    "make_lists('insurance.csv', child_list, 'children')\n",
    "make_lists('insurance.csv', smoker_list, 'smoker')\n",
    "make_lists('insurance.csv', region_list, 'region')\n",
    "make_lists('insurance.csv', charge_list, 'charges') "
   ]
  },
  {
   "cell_type": "markdown",
   "metadata": {},
   "source": [
    "Find average age"
   ]
  },
  {
   "cell_type": "code",
   "execution_count": 24,
   "metadata": {},
   "outputs": [
    {
     "name": "stdout",
     "output_type": "stream",
     "text": [
      "The average age is 39.0.\n"
     ]
    }
   ],
   "source": [
    "def average_age(ages):\n",
    "    age_total = 0\n",
    "    for age in ages:\n",
    "        age_total += int(age)\n",
    "    ave_age = age_total/len(ages)\n",
    "    return ave_age\n",
    "\n",
    "age = round(average_age(age_list), 0)\n",
    "print(\"The average age is \" + str(age) + \".\")"
   ]
  },
  {
   "cell_type": "markdown",
   "metadata": {},
   "source": [
    "Number of males vs females"
   ]
  },
  {
   "cell_type": "code",
   "execution_count": 27,
   "metadata": {},
   "outputs": [
    {
     "name": "stdout",
     "output_type": "stream",
     "text": [
      "The number of females vs males is (662, 676)\n"
     ]
    }
   ],
   "source": [
    "def male_vs_female(sex_lst):\n",
    "    num_males = 0\n",
    "    num_females = 0\n",
    "    for sex in sex_lst:\n",
    "        if sex == 'female':\n",
    "            num_females += 1\n",
    "        else:\n",
    "            num_males += 1\n",
    "    return num_females, num_males\n",
    "\n",
    "ratio = male_vs_female(sex_list)\n",
    "print(\"The number of females vs males is \" + str(ratio))\n",
    "    "
   ]
  },
  {
   "cell_type": "markdown",
   "metadata": {},
   "source": [
    "Who has more expensive insurance, and how much more expensive is it on average?"
   ]
  },
  {
   "cell_type": "code",
   "execution_count": 38,
   "metadata": {},
   "outputs": [
    {
     "name": "stdout",
     "output_type": "stream",
     "text": [
      "Average female cost is $12569.58  while average male cost is $13956.75.\n",
      "Male cost is 11.0% more expensive.\n"
     ]
    }
   ],
   "source": [
    "gender_and_cost = list(zip(sex_list, charge_list))\n",
    "#print(gender_and_cost)\n",
    "\n",
    "def gender_vs_cost(lst):\n",
    "    cost_male = 0\n",
    "    cost_female = 0\n",
    "    for item in lst:\n",
    "        if item[0] == 'female':\n",
    "            cost_female += float(item[1])\n",
    "        elif item[0] == 'male':\n",
    "            cost_male += float(item[1])\n",
    "    return cost_female, cost_male\n",
    "\n",
    "costs = gender_vs_cost(gender_and_cost)\n",
    "    \n",
    "average_female_cost = round(costs[0]/ratio[0], 2)\n",
    "average_male_cost = round(costs[1]/ratio[1], 2)\n",
    "\n",
    "print(\"Average female cost is $\" + str(average_female_cost), \" while average male cost is $\" + str(average_male_cost) + \".\")\n",
    "print(\"Male cost is \" + str(round((average_male_cost/average_female_cost)*100-100, 1)) + \"% more expensive.\")   \n",
    "            "
   ]
  },
  {
   "cell_type": "markdown",
   "metadata": {},
   "source": [
    "Creat a dictionary with all info"
   ]
  },
  {
   "cell_type": "code",
   "execution_count": 2,
   "metadata": {},
   "outputs": [],
   "source": [
    "def all_info(ages, bmis, sex, children, smoker, region, charges):\n",
    "    i = 0\n",
    "    info_dict = {}\n",
    "    for i in range(len(ages)):\n",
    "        info_dict['Patient ' + str(i+1)] = ('age: '+ str(ages[i]), 'bmi: ' + str(bmis[i]), + 'sex: ' + str(sex[i]), + 'num children: ' + str(children[i]), 'smoker: ' + str(smoker[i]), + 'region: ' + region[i], + 'charges: ' + str(charges[i]))\n",
    "        continue\n",
    "    return info_dict\n",
    "\n",
    "all_info_dict = all_info(age_list, bmi_list, sex_list, child_list, smoker_list, region_list, charge_list)"
   ]
  },
  {
   "cell_type": "code",
   "execution_count": null,
   "metadata": {},
   "outputs": [],
   "source": []
  }
 ],
 "metadata": {
  "kernelspec": {
   "display_name": "Python 3 (ipykernel)",
   "language": "python",
   "name": "python3"
  },
  "language_info": {
   "codemirror_mode": {
    "name": "ipython",
    "version": 3
   },
   "file_extension": ".py",
   "mimetype": "text/x-python",
   "name": "python",
   "nbconvert_exporter": "python",
   "pygments_lexer": "ipython3",
   "version": "3.9.12"
  }
 },
 "nbformat": 4,
 "nbformat_minor": 4
}
